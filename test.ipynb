{
 "cells": [
  {
   "cell_type": "code",
   "execution_count": 6,
   "id": "36fbfcdf",
   "metadata": {},
   "outputs": [
    {
     "name": "stdout",
     "output_type": "stream",
     "text": [
      "tensor([[4.4008],\n",
      "        [4.3953],\n",
      "        [6.6850],\n",
      "        [4.2340],\n",
      "        [9.8940],\n",
      "        [6.7486],\n",
      "        [4.2404],\n",
      "        [5.4982],\n",
      "        [5.3676],\n",
      "        [8.5770],\n",
      "        [7.3958],\n",
      "        [7.3449],\n",
      "        [5.6007],\n",
      "        [4.4179],\n",
      "        [4.2915],\n",
      "        [1.6700],\n",
      "        [2.7498],\n",
      "        [7.1070],\n",
      "        [9.2162],\n",
      "        [1.3167],\n",
      "        [9.1510],\n",
      "        [7.0324],\n",
      "        [1.2048],\n",
      "        [5.3000],\n",
      "        [6.7222],\n",
      "        [9.2543],\n",
      "        [8.5859],\n",
      "        [4.5182],\n",
      "        [8.7278],\n",
      "        [5.0813],\n",
      "        [0.2337],\n",
      "        [8.7456]])\n",
      "tensor([[0.7583],\n",
      "        [0.7574],\n",
      "        [1.1519],\n",
      "        [0.7296],\n",
      "        [1.7049],\n",
      "        [1.1629],\n",
      "        [0.7307],\n",
      "        [0.9474],\n",
      "        [0.9249],\n",
      "        [1.4779],\n",
      "        [1.2744],\n",
      "        [1.2656],\n",
      "        [0.9651],\n",
      "        [0.7613],\n",
      "        [0.7395],\n",
      "        [0.2878],\n",
      "        [0.4738],\n",
      "        [1.2246],\n",
      "        [1.5881],\n",
      "        [0.2269],\n",
      "        [1.5768],\n",
      "        [1.2118],\n",
      "        [0.2076],\n",
      "        [0.9133],\n",
      "        [1.1583],\n",
      "        [1.5946],\n",
      "        [1.4795],\n",
      "        [0.7785],\n",
      "        [1.5039],\n",
      "        [0.8756],\n",
      "        [0.0403],\n",
      "        [1.5070]])\n"
     ]
    }
   ],
   "source": [
    "import torch\n",
    "from torchvision import transforms\n",
    "import torch.nn.functional as F\n",
    "\n",
    "t = 10*torch.rand(32, 1)\n",
    "print(t)\n",
    "mean = torch.mean(t)\n",
    "transformed = t/mean\n",
    "print(transformed)"
   ]
  },
  {
   "cell_type": "code",
   "execution_count": null,
   "id": "aa15d963",
   "metadata": {},
   "outputs": [],
   "source": []
  }
 ],
 "metadata": {
  "kernelspec": {
   "display_name": "Python 3",
   "language": "python",
   "name": "python3"
  },
  "language_info": {
   "codemirror_mode": {
    "name": "ipython",
    "version": 3
   },
   "file_extension": ".py",
   "mimetype": "text/x-python",
   "name": "python",
   "nbconvert_exporter": "python",
   "pygments_lexer": "ipython3",
   "version": "3.9.5"
  }
 },
 "nbformat": 4,
 "nbformat_minor": 5
}
