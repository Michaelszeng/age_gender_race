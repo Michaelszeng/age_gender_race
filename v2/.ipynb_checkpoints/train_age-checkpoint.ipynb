{
 "cells": [
  {
   "cell_type": "code",
   "execution_count": 12,
   "id": "cd3a1825",
   "metadata": {},
   "outputs": [],
   "source": [
    "\"\"\"\n",
    "Imports\n",
    "\"\"\"\n",
    "# !pip install numpy\n",
    "# !pip install torch\n",
    "# !pip install torchvision\n",
    "# !pip install pandas\n",
    "# !pip install opencv-python\n",
    "# !pip install matplotlib\n",
    "import numpy as np\n",
    "import time\n",
    "import torch\n",
    "import torch.nn as nn\n",
    "import torch.nn.functional as F\n",
    "import torch.optim as optim\n",
    "import torchvision\n",
    "import csv\n",
    "import cv2\n",
    "from datetime import datetime\n",
    "import matplotlib.pyplot as plt\n",
    "from torch.utils.data import DataLoader\n",
    "\n",
    "from dataset_age import FacesDataset"
   ]
  },
  {
   "cell_type": "code",
   "execution_count": 13,
   "id": "e46022d5",
   "metadata": {},
   "outputs": [],
   "source": [
    "\"\"\"Creating the Neural Network Class\"\"\"\n",
    "class Net(nn.Module):\n",
    "    def __init__(self):\n",
    "        super(Net, self).__init__()\n",
    "        # Input: 48 x 48 x 1 = 2304\n",
    "        ### Inputs to Conv2d: Incoming layers, outgoing layers, Frame size\n",
    "\n",
    "        self.conv1 = nn.Conv2d(1, 2, 3)  #48 --> 46\n",
    "        self.batchnorm1 = nn.BatchNorm2d(2)\n",
    "        self.pool1 = nn.MaxPool2d(2, 2)  #46 --> 23\n",
    "        self.conv2 = nn.Conv2d(2, 4, 3, stride=2)  #23 --> 11\n",
    "        self.batchnorm2 = nn.BatchNorm2d(4)\n",
    "        self.conv3 = nn.Conv2d(4, 8, 3, stride=2) #11 --> 5\n",
    "        self.batchnorm3 = nn.BatchNorm2d(8)\n",
    "\n",
    "        # Activation function to use\n",
    "        self.activation = F.relu\n",
    "    \n",
    "        self.fc1 = nn.Linear(200, 50)\n",
    "        self.batchnorm_fc1 = nn.BatchNorm1d(50)\n",
    "        self.dropout1 = torch.nn.Dropout(p=0.5)    #p = probability of a neuron being dropped\n",
    "        self.fc2 = nn.Linear(50, 10)\n",
    "        self.batchnorm_fc2 = nn.BatchNorm1d(10)\n",
    "        self.dropout2 = torch.nn.Dropout(p=0.5)\n",
    "        self.fc3 = nn.Linear(10, 1)\n",
    "\n",
    "    def forward(self, x):\n",
    "        x = self.activation(self.batchnorm1(self.conv1(x)))\n",
    "#         x = self.batchnorm1()\n",
    "        x = self.pool1(x)\n",
    "        x = self.activation(self.batchnorm2(self.conv2(x)))\n",
    "        x = self.activation(self.batchnorm3(self.conv3(x)))\n",
    "        x = x.view(-1, 200)\n",
    "        x = self.activation(self.batchnorm_fc1(self.fc1(x)))\n",
    "        x = self.dropout1(x)\n",
    "        x = self.activation(self.batchnorm_fc2(self.fc2(x)))\n",
    "        x = self.dropout2(x)\n",
    "        x = self.fc3(x)\n",
    "        return x"
   ]
  },
  {
   "cell_type": "code",
   "execution_count": 14,
   "id": "11ffbf6d",
   "metadata": {},
   "outputs": [],
   "source": [
    "\"\"\"Setting up neural network parameters, defining accuracy function\"\"\"\n",
    "batch_size = 32\n",
    "# learning_rate = 0.000000001  #11/12 2:07 PM (works, small range of 14-31)\n",
    "# learning_rate = 0.0000000005   #11/12 2:15 PM (works, range of -7 to 50. seems to be making real (but inaccurate predictions))\n",
    "learning_rate = 0.001\n",
    "num_epochs = 5\n",
    "\n",
    "data_path = \"../age_gender.csv\"\n",
    "\n",
    "dataset = FacesDataset(csv_file=data_path)\n",
    "num_data_items = dataset.__len__()\n",
    "\n",
    "train_set, test_set = torch.utils.data.random_split(dataset, [int(round(num_data_items*0.51)), int(round(num_data_items*0.49))])\n",
    "train_loader = DataLoader(dataset=train_set, batch_size=batch_size, shuffle=True)\n",
    "test_loader  = DataLoader(dataset=test_set, batch_size=batch_size, shuffle=True)\n",
    "\n",
    "device = torch.device('cuda' if torch.cuda.is_available() else 'cpu')\n",
    "\n",
    "load_model = \"model.pth\"  #leave empty string of training from scratch\n",
    "save_model = \"model.pth\"\n",
    "\n",
    "if load_model == \"\":\n",
    "    model = Net()\n",
    "else:\n",
    "    model = torch.load(load_model)\n",
    "    \n",
    "if torch.cuda.is_available():\n",
    "    model.cuda()\n",
    "# model.to(device)\n",
    "\n",
    "# criterion = nn.L1Loss()\n",
    "criterion = nn.MSELoss()\n",
    "optimizer = optim.Adam(model.parameters(), lr=learning_rate)\n",
    "scheduler = optim.lr_scheduler.ExponentialLR(optimizer, gamma=0.9)\n",
    "\n",
    "\n",
    "\n",
    "def check_accuracy(loader, model):\n",
    "    \"\"\"\n",
    "    Checks accuracy of the model by running it on the data in the dataloader passed as a parameter\n",
    "    \n",
    "    The closer the returned score is to 0, the better\n",
    "    \"\"\"\n",
    "    num_correct_age = 0\n",
    "    num_samples = loader.__len__()\n",
    "    \n",
    "    model.eval()  #Setting to eval mode will cause the model to ignore the dropout layers\n",
    "    \n",
    "    with torch.no_grad():  #speeds up process\n",
    "        age_diffs_total = 0\n",
    "        num_batches = 0\n",
    "        for batch_idx, (x, y) in enumerate(loader):   #Looping through batches\n",
    "            x = x.to(device=device)   #shape: (batch size, 48, 48)\n",
    "            y = y.to(device=device)   #shape: (batch size, 3)\n",
    "            \n",
    "            #GETTING AND FORMATTING MODEL PREDICTIONS\n",
    "            x = x.unsqueeze(1)   #Add a dimension to the tensor for number of channels (which is 1)\n",
    "#             scores = model(x.float())   #Shape: (batch size, 3)\n",
    "            scores = model(x.float()).reshape(-1)   #Shape: (batch size, 3)\n",
    "#             print(\"scores: \" + str(scores))\n",
    "            \n",
    "            #CALCULATING ACCURACY SCORE\n",
    "            age_diffs = torch.abs(scores - y)\n",
    "            age_diff_avg = torch.mean(age_diffs)\n",
    "            \n",
    "            age_diffs_total += age_diff_avg\n",
    "            num_batches += 1\n",
    "        \n",
    "#         print(f'accuracy score (the closer to zero, the better): {total_accuracy}')\n",
    "    return age_diffs_total/num_batches"
   ]
  },
  {
   "cell_type": "code",
   "execution_count": 15,
   "id": "ba574bcd",
   "metadata": {
    "scrolled": true
   },
   "outputs": [
    {
     "name": "stdout",
     "output_type": "stream",
     "text": [
      "Epoch: 1, Loss: 0.20538757422140666, Train Acc: 15.917354583740234, Test Acc: 15.894286155700684\n",
      "Epoch: 2, Loss: 0.05863867761695354, Train Acc: 14.366642951965332, Test Acc: 14.463252067565918\n",
      "Epoch: 3, Loss: 0.042609586971738035, Train Acc: 13.983382225036621, Test Acc: 14.10486888885498\n",
      "Epoch: 4, Loss: 0.037860450576300976, Train Acc: 13.918381690979004, Test Acc: 14.036850929260254\n",
      "Epoch: 5, Loss: 0.03580374653308244, Train Acc: 13.612186431884766, Test Acc: 13.727209091186523\n",
      "Epoch: 6, Loss: 0.0347674123366319, Train Acc: 13.506197929382324, Test Acc: 13.61823844909668\n",
      "Epoch: 7, Loss: 0.03376855584176839, Train Acc: 13.335628509521484, Test Acc: 13.443861961364746\n",
      "Epoch: 8, Loss: 0.03293949210149034, Train Acc: 13.095070838928223, Test Acc: 13.203588485717773\n",
      "Epoch: 9, Loss: 0.03214586869611469, Train Acc: 12.762977600097656, Test Acc: 12.895968437194824\n",
      "Epoch: 10, Loss: 0.03137372653665287, Train Acc: 12.503748893737793, Test Acc: 12.64633560180664\n",
      "Epoch: 11, Loss: 0.030278025323121006, Train Acc: 12.349079132080078, Test Acc: 12.523690223693848\n",
      "Epoch: 12, Loss: 0.02980419709568932, Train Acc: 11.911093711853027, Test Acc: 12.088488578796387\n",
      "Epoch: 13, Loss: 0.02912169520708698, Train Acc: 11.823053359985352, Test Acc: 12.022661209106445\n",
      "Epoch: 14, Loss: 0.028888899448608594, Train Acc: 11.856244087219238, Test Acc: 12.0662841796875\n",
      "Epoch: 15, Loss: 0.028763236827832998, Train Acc: 11.913641929626465, Test Acc: 12.149131774902344\n",
      "Epoch: 16, Loss: 0.028182253463282472, Train Acc: 11.689224243164062, Test Acc: 11.934137344360352\n",
      "Epoch: 17, Loss: 0.027542587236634324, Train Acc: 11.5593843460083, Test Acc: 11.810379028320312\n",
      "Epoch: 18, Loss: 0.026867203744591544, Train Acc: 11.477356910705566, Test Acc: 11.728729248046875\n",
      "Epoch: 19, Loss: 0.02676966827776697, Train Acc: 11.205568313598633, Test Acc: 11.501968383789062\n",
      "Epoch: 20, Loss: 0.02640983420695183, Train Acc: 11.01198673248291, Test Acc: 11.34104061126709\n",
      "Epoch: 21, Loss: 0.026554953131982417, Train Acc: 11.287126541137695, Test Acc: 11.58713150024414\n",
      "Epoch: 22, Loss: 0.026719467793271025, Train Acc: 11.170323371887207, Test Acc: 11.483885765075684\n",
      "Epoch: 23, Loss: 0.026046234493454296, Train Acc: 10.996525764465332, Test Acc: 11.344633102416992\n",
      "Epoch: 24, Loss: 0.026105645535237813, Train Acc: 10.977725982666016, Test Acc: 11.316665649414062\n",
      "Epoch: 25, Loss: 0.025857003519025746, Train Acc: 10.905619621276855, Test Acc: 11.257282257080078\n",
      "Epoch: 26, Loss: 0.025556987338753605, Train Acc: 11.00533676147461, Test Acc: 11.346156120300293\n",
      "Epoch: 27, Loss: 0.025618030657627123, Train Acc: 10.844905853271484, Test Acc: 11.210232734680176\n",
      "Epoch: 28, Loss: 0.02563982643187046, Train Acc: 10.864027976989746, Test Acc: 11.234009742736816\n",
      "Epoch: 29, Loss: 0.025209487206425775, Train Acc: 10.832809448242188, Test Acc: 11.205060958862305\n",
      "Epoch: 30, Loss: 0.025132304087044702, Train Acc: 10.85491943359375, Test Acc: 11.22959041595459\n",
      "Epoch: 31, Loss: 0.0253204729324256, Train Acc: 10.626380920410156, Test Acc: 11.012669563293457\n",
      "Epoch: 32, Loss: 0.025337253046769, Train Acc: 10.72158145904541, Test Acc: 11.112732887268066\n",
      "Epoch: 33, Loss: 0.02523671680194124, Train Acc: 10.765769004821777, Test Acc: 11.152653694152832\n",
      "Epoch: 34, Loss: 0.025333114909550185, Train Acc: 10.783408164978027, Test Acc: 11.166836738586426\n",
      "Epoch: 35, Loss: 0.025333628595545495, Train Acc: 10.65723991394043, Test Acc: 11.061861038208008\n"
     ]
    }
   ],
   "source": [
    "\"\"\"Training\"\"\"\n",
    "\n",
    "all_losses = []\n",
    "all_train_acc = []\n",
    "all_test_acc = []\n",
    "for epoch in range(num_epochs):  #Looping through epochs\n",
    "    losses = []\n",
    "    \n",
    "    model.train()\n",
    "    for batch_idx, (data, targets) in enumerate(train_loader):   #Looping through batches\n",
    "        #Get data to cuda if possible\n",
    "        data = data.to(device=device)             #data is a torch tensor of [batch size] 48x48 images (shape=[batch size,48,48])\n",
    "        data = data.unsqueeze(1)                  #Add a dimension to the tensor for number of channels (which is 1)\n",
    "#         print(\"data.shape: \" + str(data.shape))\n",
    "        targets = targets.to(device=device)       #data is a torch tensor of (shape=[batch size,1])\n",
    "#         print(\"targets.shape: \" + str(targets.shape))\n",
    "#         print(\"data[0,:,:].shape: \" + str(np.array(data[0,:,:].shape)))\n",
    "#         cv2.imwrite(\"test.png\", np.array(data[0,:,:]))\n",
    "        \n",
    "        #Forward prop\n",
    "        scores = model(data.float()).reshape(-1)\n",
    "        \n",
    "        #Calculating Accuracy Score\n",
    "        #Old method (not using check_accuracy())\n",
    "#         age_diffs = torch.abs(scores - targets)\n",
    "#         train_acc = torch.mean(age_diffs).item() * 100        \n",
    "\n",
    "        loss = criterion(scores, targets)\n",
    "#         print(loss)\n",
    "        \n",
    "        #Backward prop\n",
    "        optimizer.zero_grad()\n",
    "        loss.backward()\n",
    "        optimizer.step()  #gradient descent\n",
    "        \n",
    "        losses.append(loss.item())\n",
    "    \n",
    "    scheduler.step()\n",
    "    \n",
    "    if epoch % 10 == 0:\n",
    "        torch.save(model, save_model)\n",
    "    \n",
    "    #Calculating Accuray Score using check_accuracy()\n",
    "    train_acc = check_accuracy(train_loader, model) * 100\n",
    "    all_train_acc.append(train_acc.to('cpu').numpy())\n",
    "    test_acc = check_accuracy(test_loader, model) * 100\n",
    "    all_test_acc.append(test_acc.to('cpu').numpy())\n",
    "    \n",
    "    #Calculating Loss\n",
    "    l = sum(losses)/len(losses)\n",
    "    all_losses.append(l)\n",
    "    \n",
    "    print(f\"Epoch: {epoch + 1}, Loss: {l}, Train Acc: {train_acc}, Test Acc: {test_acc}\")"
   ]
  },
  {
   "cell_type": "code",
   "execution_count": 18,
   "id": "c60b360c",
   "metadata": {},
   "outputs": [
    {
     "name": "stdout",
     "output_type": "stream",
     "text": [
      "test trendline slope: -0.10542278182940654\n"
     ]
    },
    {
     "data": {
      "image/png": "[encoded data removed]",
      "text/plain": [
       "<Figure size 432x288 with 1 Axes>"
      ]
     },
     "metadata": {
      "needs_background": "light"
     },
     "output_type": "display_data"
    },
    {
     "data": {
      "image/png": "[encoded data removed]",
      "text/plain": [
       "<Figure size 432x288 with 1 Axes>"
      ]
     },
     "metadata": {
      "needs_background": "light"
     },
     "output_type": "display_data"
    }
   ],
   "source": [
    "\"\"\"Plotting Results\"\"\"\n",
    "\n",
    "def plot(loss, train_acc, test_acc):\n",
    "    epochs_range = range(0, len(train_acc))\n",
    "    \n",
    "    #Creating Scatter Plot for Loss\n",
    "    plt.figure()\n",
    "    plt.scatter(range(0, len(all_losses)), loss)\n",
    "    plt.plot(range(0, len(all_losses)), loss)\n",
    "    \n",
    "    #Creating Scatter Plot for Accuracy\n",
    "    plt.figure()\n",
    "    plt.scatter(epochs_range, train_acc)\n",
    "    plt.scatter(epochs_range, test_acc)\n",
    "    plt.plot(epochs_range, train_acc)\n",
    "    plt.plot(epochs_range, test_acc)\n",
    "    \n",
    "    \n",
    "    #Creating Linear Trendlines for Train Accuracy and Test Accuracy\n",
    "    epochs_trend = np.linspace(epochs_range[0], epochs_range[-1], 100)\n",
    "    \n",
    "    train_coeff = np.polyfit(epochs_range, train_acc, 1)\n",
    "    train_acc_trend = train_coeff[0]*epochs_trend + train_coeff[1]   #m*x + b\n",
    "    plt.plot(epochs_trend, train_acc_trend,'b-')\n",
    "    \n",
    "    test_coeff = np.polyfit(epochs_range, test_acc, 1)\n",
    "    test_acc_trend = test_coeff[0]*epochs_trend + test_coeff[1]   #m*x + b\n",
    "    plt.plot(epochs_trend, test_acc_trend,'r-')\n",
    "    print(\"test trendline slope: \" + str(test_coeff[0]))\n",
    "    \n",
    "    \n",
    "    #Saving plot to file\n",
    "    now = datetime.now()\n",
    "    # dd/mm/YY H:M:S\n",
    "    dt_string = now.strftime(\"%d,%m,%Y_%H,%M,%S\")\n",
    "#     plt.savefig('../plots/loss_accuracy_' + dt_string + '.png')\n",
    "\n",
    "plot(all_losses, all_train_acc, all_test_acc)"
   ]
  },
  {
   "cell_type": "code",
   "execution_count": 23,
   "id": "369b3f40",
   "metadata": {},
   "outputs": [
    {
     "name": "stdout",
     "output_type": "stream",
     "text": [
      "tensor([[0.2303]], device='cuda:0', grad_fn=<AddmmBackward0>)\n"
     ]
    }
   ],
   "source": [
    "\"\"\"Getting prediction on single custom image\"\"\"\n",
    "IMG_FILE = \"../test_face2.jpg\"\n",
    "\n",
    "test_img = torch.Tensor(cv2.cvtColor(cv2.imread(IMG_FILE), cv2.COLOR_BGR2GRAY))   #getting image with shape (48, 48)\n",
    "test_img = test_img.unsqueeze(0).unsqueeze(0)  #adding 2 dimensions to the image to get it to shape (1, 1, 48, 48). The 1st dimension represents batch of 1, the second represents color channels (I think)\n",
    "outputs = model(test_img.to(\"cuda:0\"))\n",
    "print(outputs)"
   ]
  },
  {
   "cell_type": "code",
   "execution_count": 28,
   "id": "517a5d03",
   "metadata": {},
   "outputs": [
    {
     "data": {
      "image/png": "[encoded data removed]",
      "text/plain": [
       "<Figure size 432x288 with 1 Axes>"
      ]
     },
     "metadata": {
      "needs_background": "light"
     },
     "output_type": "display_data"
    },
    {
     "name": "stdout",
     "output_type": "stream",
     "text": [
      "prediction: 33.872551.      Label: 28.000000\n"
     ]
    }
   ],
   "source": [
    "\"\"\"Getting prediction on a random image from the dataset (and retreiving label)\"\"\"\n",
    "import random\n",
    "item_tuple = dataset.__getitem__(random.randint(0, dataset.__len__()-1))\n",
    "image = item_tuple[0]\n",
    "label = item_tuple[1]*100\n",
    "\n",
    "%matplotlib inline\n",
    "from matplotlib import pyplot as plt\n",
    "plt.imshow(image)\n",
    "plt.show()\n",
    "\n",
    "image = torch.Tensor(image)\n",
    "image = image.unsqueeze(0).unsqueeze(0)  #adding 2 dimensions to the image to get it to shape (1, 1, 48, 48). The 1st dimension represents batch of 1, the second represents color channels (I think)\n",
    "outputs = model(image.to(\"cuda:0\")) * 100\n",
    "print(\"prediction: %f.      Label: %f\" % (outputs, label))"
   ]
  },
  {
   "cell_type": "code",
   "execution_count": null,
   "id": "fc7ed9ea",
   "metadata": {},
   "outputs": [],
   "source": [
    "# \"\"\"Getting prediction on a random image from the dataset (and retreiving label)\"\"\"\n",
    "# import random\n",
    "# item_tuple = dataset.__getitem__(random.randint(0, dataset.__len__()-1))\n",
    "# image = item_tuple[0]\n",
    "# label = item_tuple[1]\n",
    "\n",
    "# %matplotlib inline\n",
    "# from matplotlib import pyplot as plt\n",
    "# plt.imshow(image)\n",
    "# plt.show()\n",
    "\n",
    "# __, img = torch.utils.data.random_split(dataset, [num_data_items-1, 1])\n",
    "# loader = DataLoader(dataset=img, batch_size=1, shuffle=True)\n",
    "# for batch_idx, (data, targets) in enumerate(loader):   #Looping through batches\n",
    "#     #Get data to cuda if possible\n",
    "#     data = data.to(device=device)             #data is a torch tensor of [batch size] 48x48 images (shape=[batch size,48,48])\n",
    "#     data = data.unsqueeze(1)                  #Add a dimension to the tensor for number of channels (which is 1)\n",
    "\n",
    "#     #Forward prop\n",
    "#     scores = model(data.float()).reshape(-1)\n",
    "\n",
    "#     print(\"prediction: %f.      Label: %d\" % (scores.item(), int(label.item())))"
   ]
  },
  {
   "cell_type": "code",
   "execution_count": null,
   "id": "2df24d5c",
   "metadata": {},
   "outputs": [],
   "source": []
  }
 ],
 "metadata": {
  "kernelspec": {
   "display_name": "Python 3",
   "language": "python",
   "name": "python3"
  },
  "language_info": {
   "codemirror_mode": {
    "name": "ipython",
    "version": 3
   },
   "file_extension": ".py",
   "mimetype": "text/x-python",
   "name": "python",
   "nbconvert_exporter": "python",
   "pygments_lexer": "ipython3",
   "version": "3.6.9"
  }
 },
 "nbformat": 4,
 "nbformat_minor": 5
}
