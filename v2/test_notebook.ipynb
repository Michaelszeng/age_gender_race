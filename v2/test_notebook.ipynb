{
 "cells": [
  {
   "cell_type": "code",
   "execution_count": 1,
   "id": "69e02ac2",
   "metadata": {},
   "outputs": [],
   "source": [
    "import random\n",
    "import cv2\n",
    "from dataset_age import FacesDataset\n",
    "from data_augmentation import*\n",
    "import torch\n",
    "import torch.nn as nn\n",
    "import torch.nn.functional as F\n",
    "import torch.optim as optim\n",
    "import torchvision\n",
    "from torch.utils.data import DataLoader"
   ]
  },
  {
   "cell_type": "code",
   "execution_count": 2,
   "id": "1fbe8d79",
   "metadata": {},
   "outputs": [
    {
     "name": "stdout",
     "output_type": "stream",
     "text": [
      "(48, 48)\n",
      "(array([[129, 128, 128, ..., 118,  99,  53],\n",
      "       [130, 129, 128, ..., 117,  98,  52],\n",
      "       [131, 129, 130, ..., 114,  97,  50],\n",
      "       ...,\n",
      "       [121, 138, 147, ..., 151, 150, 148],\n",
      "       [117, 137, 146, ..., 149, 148, 148],\n",
      "       [115, 135, 142, ..., 146, 146, 146]]), tensor(0.0100))\n"
     ]
    }
   ],
   "source": [
    "\"\"\"\n",
    "Testing dataset structure\n",
    "\"\"\"\n",
    "\n",
    "data_path = \"../age_gender.csv\"\n",
    "dataset = FacesDataset(csv_file=data_path)\n",
    "num_data_items = dataset.__len__()\n",
    "item_tuple = dataset.__getitem__(0)\n",
    "print(item_tuple[0].shape)\n",
    "print(item_tuple)"
   ]
  },
  {
   "cell_type": "code",
   "execution_count": 3,
   "id": "906c8fda",
   "metadata": {},
   "outputs": [],
   "source": [
    "\"\"\"\n",
    "Testing/displaying data augmentation function results\n",
    "\"\"\"\n",
    "batch_size = 32\n",
    "\n",
    "train_set, test_set = torch.utils.data.random_split(dataset, [int(round(num_data_items*0.51)), int(round(num_data_items*0.49))])\n",
    "train_loader = DataLoader(dataset=train_set, batch_size=batch_size, shuffle=True)\n",
    "test_loader  = DataLoader(dataset=test_set, batch_size=batch_size, shuffle=True)\n",
    "\n",
    "for batch_idx, (data, targets) in enumerate(train_loader):\n",
    "    cv2.imwrite(\"Test_Images/original.png\", data[0].numpy())\n",
    "    data_flipped = horiz_flip((data, targets), batch_size)\n",
    "    cv2.imwrite(\"Test_Images/flipped.png\", data_flipped[0].numpy())\n",
    "    data_zoomed = zoom((data, targets), batch_size)\n",
    "    cv2.imwrite(\"Test_Images/zoomed.png\", data_zoomed[0].numpy())\n",
    "    data_rotated = rotate((data, targets), batch_size)\n",
    "    cv2.imwrite(\"Test_Images/rotated.png\", data_rotated[0].numpy())\n",
    "    data_flipped_and_rotated = horiz_flip_and_rotate((data, targets), batch_size)\n",
    "    cv2.imwrite(\"Test_Images/flipped_and_rotated.png\", data_flipped_and_rotated[0].numpy())\n",
    "    data_brightness = brightness((data, targets), batch_size)\n",
    "    cv2.imwrite(\"Test_Images/brightness.png\", data_brightness[0].numpy())\n",
    "    data_translated = translate((data, targets), batch_size)\n",
    "    cv2.imwrite(\"Test_Images/translated.png\", data_translated[0].numpy())\n",
    "    "
   ]
  },
  {
   "cell_type": "code",
   "execution_count": null,
   "id": "98a5d1c7",
   "metadata": {},
   "outputs": [],
   "source": []
  }
 ],
 "metadata": {
  "kernelspec": {
   "display_name": "Python 3",
   "language": "python",
   "name": "python3"
  },
  "language_info": {
   "codemirror_mode": {
    "name": "ipython",
    "version": 3
   },
   "file_extension": ".py",
   "mimetype": "text/x-python",
   "name": "python",
   "nbconvert_exporter": "python",
   "pygments_lexer": "ipython3",
   "version": "3.6.9"
  }
 },
 "nbformat": 4,
 "nbformat_minor": 5
}
