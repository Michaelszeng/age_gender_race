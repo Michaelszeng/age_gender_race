{
 "cells": [
  {
   "cell_type": "code",
   "execution_count": 1,
   "id": "0c77b0c9",
   "metadata": {},
   "outputs": [],
   "source": [
    "\"\"\"\n",
    "Imports\n",
    "\"\"\"\n",
    "# !pip install numpy\n",
    "# !pip install torch\n",
    "# !pip install torchvision\n",
    "# !pip install pandas\n",
    "# !pip install opencv-python\n",
    "# !pip install matplotlib\n",
    "import numpy as np\n",
    "import torch\n",
    "import torch.nn as nn\n",
    "import torch.nn.functional as F\n",
    "import torch.optim as optim\n",
    "import torchvision\n",
    "import csv\n",
    "import cv2\n",
    "from datetime import datetime\n",
    "import matplotlib.pyplot as plt\n",
    "from torch.utils.data import DataLoader\n",
    "\n",
    "from dataset_age import FacesDataset"
   ]
  },
  {
   "cell_type": "code",
   "execution_count": 2,
   "id": "2b2517b8",
   "metadata": {},
   "outputs": [],
   "source": [
    "\"\"\"Creating the Neural Network Class\"\"\"\n",
    "class Net(nn.Module):\n",
    "    def __init__(self):\n",
    "        super(Net, self).__init__()\n",
    "        # Input: 48 x 48 x 1 = 2304\n",
    "        ### Inputs to Conv2d: Incoming layers, outgoing layers, Frame size\n",
    "\n",
    "        self.conv1 = nn.Conv2d(1, 2, 3)  #48 --> 46\n",
    "        self.pool1 = nn.MaxPool2d(2, 2)  #46 --> 23\n",
    "        self.conv2 = nn.Conv2d(2, 4, 3, stride=2)  #23 --> 11\n",
    "        self.conv3 = nn.Conv2d(4, 8, 3, stride=2) #11 --> 5\n",
    "\n",
    "        # Activation function to use\n",
    "        self.activation = F.relu\n",
    "\n",
    "        self.fc1 = nn.Linear(200, 50)\n",
    "        self.fc2 = nn.Linear(50, 10)\n",
    "        self.fc3 = nn.Linear(10, 1)\n",
    "\n",
    "    def forward(self, x):\n",
    "        x = self.activation(self.conv1(x))\n",
    "        x = self.pool1(x)\n",
    "        x = self.activation(self.conv2(x))\n",
    "        x = self.activation(self.conv3(x))\n",
    "        x = x.view(-1, 200)\n",
    "        x = self.activation(self.fc1(x))\n",
    "        x = self.activation(self.fc2(x))\n",
    "        x = self.fc3(x)\n",
    "        return x"
   ]
  },
  {
   "cell_type": "code",
   "execution_count": 3,
   "id": "4f3b7f15",
   "metadata": {},
   "outputs": [],
   "source": [
    "\"\"\"Setting up neural network parameters, defining accuracy function\"\"\"\n",
    "batch_size = 32\n",
    "# learning_rate = 0.000000001  #11/12 2:07 PM (works, small range of 14-31)\n",
    "# learning_rate = 0.0000000005   #11/12 2:15 PM (works, range of -7 to 50. seems to be making real (but inaccurate predictions))\n",
    "# learning_rate = 0.00000000025\n",
    "learning_rate = 0.001\n",
    "num_epochs = 35\n",
    "\n",
    "data_path = \"../age_gender.csv\"\n",
    "\n",
    "dataset = FacesDataset(csv_file=data_path)\n",
    "num_data_items = dataset.__len__()\n",
    "\n",
    "train_set, test_set = torch.utils.data.random_split(dataset, [int(round(num_data_items*0.51)), int(round(num_data_items*0.49))])\n",
    "train_loader = DataLoader(dataset=train_set, batch_size=batch_size, shuffle=True)\n",
    "test_loader  = DataLoader(dataset=test_set, batch_size=batch_size, shuffle=True)\n",
    "\n",
    "device = torch.device('cuda' if torch.cuda.is_available() else 'cpu')\n",
    "model = Net()\n",
    "# model.to(device)\n",
    "\n",
    "# criterion = nn.L1Loss()\n",
    "criterion = nn.MSELoss()\n",
    "optimizer = optim.Adam(model.parameters(), lr=learning_rate)\n",
    "\n",
    "\n",
    "\n",
    "def check_accuracy(loader, model):\n",
    "    \"\"\"\n",
    "    Checks accuracy of the model by running it on the data in the dataloader passed as a parameter\n",
    "    \n",
    "    The closer the returned score is to 0, the better\n",
    "    \"\"\"\n",
    "    num_correct_age = 0\n",
    "    num_samples = loader.__len__()\n",
    "    model.eval()\n",
    "    \n",
    "    with torch.no_grad():  #speeds up process\n",
    "        for x, y in loader:\n",
    "            x = x.to(device=device)   #shape: (batch size, 48, 48)\n",
    "            y = y.to(device=device)   #shape: (batch size, 3)\n",
    "            \n",
    "            #GETTING AND FORMATTING MODEL PREDICTIONS\n",
    "            x = x.unsqueeze(1)   #Add a dimension to the tensor for number of channels (which is 1)\n",
    "            scores = model(x.float())   #Shape: (batch size, 3)\n",
    "#             print(\"scores: \" + str(scores))\n",
    "            \n",
    "            #GETTING NUM CORRECT\n",
    "#             race = torch.round(scores[:,1].clone())    #Getting integer-rounded copy of races\n",
    "#             gender = torch.round(scores[:,2].clone())  #Getting integer-rounded copy of gender\n",
    "#             scores = torch.column_stack((torch.round(scores[:,0]), race))  #recreating batch sizex3 tensor with integer rounded age, race, and gender\n",
    "#             scores = torch.column_stack((scores, gender))\n",
    "#             print(\"scores: \" + str(scores))\n",
    "#             print(\"y: \" + str(y))\n",
    "            \n",
    "            #CALCULATING ACCURACY SCORE\n",
    "            age_diffs = torch.abs(scores - y)\n",
    "            age_diff_avg = torch.mean(age_diffs)\n",
    "            \n",
    "#             age_std = torch.std(age_diffs)\n",
    "            \n",
    "#             age_accuracy = age_diff_avg/age_std\n",
    "#             total_accuracy = (age_accuracy + race_accuracy + gender_accuracy) / 3\n",
    "\n",
    "#             print(\"------------------------\")\n",
    "#             print(\"age_accuracy: \" + str(age_accuracy))\n",
    "#             print(\"total_accuracy: \" + str(total_accuracy))\n",
    "#             print(\"------------------------\")\n",
    "        \n",
    "#         print(f'accuracy score (the closer to zero, the better): {total_accuracy}')\n",
    "    return age_diff_avg"
   ]
  },
  {
   "cell_type": "code",
   "execution_count": 4,
   "id": "34ee6de0",
   "metadata": {},
   "outputs": [
    {
     "name": "stderr",
     "output_type": "stream",
     "text": [
      "c:\\users\\michael_zeng\\appdata\\local\\programs\\python\\python39\\lib\\site-packages\\torch\\nn\\functional.py:718: UserWarning: Named tensors and all their associated APIs are an experimental feature and subject to change. Please do not use them for anything important until they are released as stable. (Triggered internally at  ..\\c10/core/TensorImpl.h:1156.)\n",
      "  return torch.max_pool2d(input, kernel_size, stride, padding, dilation, ceil_mode)\n"
     ]
    },
    {
     "name": "stdout",
     "output_type": "stream",
     "text": [
      "Epoch: 1, Loss: 0.04336711407575027, Train Acc: 13.600419461727142, Test Acc: 18.049848556518555\n",
      "Epoch: 2, Loss: 0.025262040171092227, Train Acc: 11.356917023658752, Test Acc: 15.300762176513672\n",
      "Epoch: 3, Loss: 0.02194277392010446, Train Acc: 8.459050953388214, Test Acc: 19.00653648376465\n",
      "Epoch: 4, Loss: 0.01989339702151637, Train Acc: 12.91595846414566, Test Acc: 14.73806095123291\n",
      "Epoch: 5, Loss: 0.01844792158919431, Train Acc: 7.891072332859039, Test Acc: 16.58272361755371\n",
      "Epoch: 6, Loss: 0.017140091411651126, Train Acc: 10.850466787815094, Test Acc: 19.30010986328125\n",
      "Epoch: 7, Loss: 0.016462338748314077, Train Acc: 9.938014298677444, Test Acc: 18.835386276245117\n",
      "Epoch: 8, Loss: 0.015666532868558847, Train Acc: 7.778792828321457, Test Acc: 17.576976776123047\n",
      "Epoch: 9, Loss: 0.014804180721363063, Train Acc: 10.671453177928925, Test Acc: 17.240337371826172\n",
      "Epoch: 10, Loss: 0.013934788556532964, Train Acc: 9.150488674640656, Test Acc: 13.523205757141113\n",
      "Epoch: 11, Loss: 0.013758949935436249, Train Acc: 6.852401047945023, Test Acc: 18.019445419311523\n",
      "Epoch: 12, Loss: 0.012835662420247756, Train Acc: 9.46042388677597, Test Acc: 16.96390151977539\n",
      "Epoch: 13, Loss: 0.01213239427660863, Train Acc: 8.71313363313675, Test Acc: 20.35689353942871\n",
      "Epoch: 14, Loss: 0.011638272647307348, Train Acc: 7.469023764133453, Test Acc: 22.672697067260742\n",
      "Epoch: 15, Loss: 0.011018177477159986, Train Acc: 7.204318046569824, Test Acc: 20.34027099609375\n",
      "Epoch: 16, Loss: 0.010225143207227269, Train Acc: 9.210700541734695, Test Acc: 22.68256378173828\n",
      "Epoch: 17, Loss: 0.01016819132762966, Train Acc: 8.940132707357407, Test Acc: 20.607654571533203\n",
      "Epoch: 18, Loss: 0.009938703424903371, Train Acc: 7.398352026939392, Test Acc: 17.642776489257812\n",
      "Epoch: 19, Loss: 0.009454139300730455, Train Acc: 5.5964890867471695, Test Acc: 13.458292007446289\n",
      "Epoch: 20, Loss: 0.009266337690254053, Train Acc: 7.547606527805328, Test Acc: 19.719789505004883\n",
      "Epoch: 21, Loss: 0.009035046544374415, Train Acc: 6.582607328891754, Test Acc: 19.74874496459961\n",
      "Epoch: 22, Loss: 0.008669971724942563, Train Acc: 6.179641932249069, Test Acc: 22.883621215820312\n",
      "Epoch: 23, Loss: 0.008310922189300298, Train Acc: 8.545829355716705, Test Acc: 19.174747467041016\n",
      "Epoch: 24, Loss: 0.008047078810040914, Train Acc: 5.595230683684349, Test Acc: 15.669514656066895\n",
      "Epoch: 25, Loss: 0.007645712003713011, Train Acc: 6.157368049025536, Test Acc: 22.834468841552734\n",
      "Epoch: 26, Loss: 0.0077217574069330655, Train Acc: 7.698548585176468, Test Acc: 16.86465072631836\n",
      "Epoch: 27, Loss: 0.007107306889593404, Train Acc: 4.117137566208839, Test Acc: 25.76340675354004\n",
      "Epoch: 28, Loss: 0.007740565911970205, Train Acc: 7.960976660251617, Test Acc: 20.497983932495117\n",
      "Epoch: 29, Loss: 0.007158099373102819, Train Acc: 5.733225494623184, Test Acc: 21.896533966064453\n",
      "Epoch: 30, Loss: 0.006877829374932738, Train Acc: 7.081305980682373, Test Acc: 22.417518615722656\n",
      "Epoch: 31, Loss: 0.006608205796933915, Train Acc: 5.37506565451622, Test Acc: 18.97625160217285\n",
      "Epoch: 32, Loss: 0.006621700847674181, Train Acc: 6.374023854732513, Test Acc: 20.280899047851562\n",
      "Epoch: 33, Loss: 0.006524533116524773, Train Acc: 5.542216077446938, Test Acc: 18.3736572265625\n",
      "Epoch: 34, Loss: 0.006210911926005292, Train Acc: 8.488582074642181, Test Acc: 19.54610824584961\n",
      "Epoch: 35, Loss: 0.006253706144720868, Train Acc: 5.218995362520218, Test Acc: 16.480667114257812\n"
     ]
    }
   ],
   "source": [
    "\"\"\"Training\"\"\"\n",
    "\n",
    "all_losses = []\n",
    "all_train_acc = []\n",
    "all_test_acc = []\n",
    "for epoch in range(num_epochs):  #Looping through epochs\n",
    "    losses = []\n",
    "    \n",
    "    for batch_idx, (data, targets) in enumerate(train_loader):   #Looping through batches\n",
    "        #Get data to cuda if possible\n",
    "        data = data.to(device=device)             #data is a torch tensor of [batch size] 48x48 images (shape=[batch size,48,48])\n",
    "        data = data.unsqueeze(1)                  #Add a dimension to the tensor for number of channels (which is 1)\n",
    "#         print(\"data.shape: \" + str(data.shape))\n",
    "        targets = targets.to(device=device)       #data is a torch tensor of (shape=[batch size,1])\n",
    "#         print(\"targets.shape: \" + str(targets.shape))\n",
    "#         print(\"data[0,:,:].shape: \" + str(np.array(data[0,:,:].shape)))\n",
    "#         cv2.imwrite(\"test.png\", np.array(data[0,:,:]))\n",
    "        \n",
    "        #Forward prop\n",
    "        scores = model(data.float()).reshape(-1)\n",
    "        \n",
    "        #Calculating Accuracy Score\n",
    "        age_diffs = torch.abs(scores - targets)\n",
    "        train_acc = torch.mean(age_diffs).item() * 100\n",
    "        \n",
    "\n",
    "        loss = criterion(scores, targets)\n",
    "#         print(loss)\n",
    "        \n",
    "        #Backward prop\n",
    "        optimizer.zero_grad()\n",
    "        loss.backward()\n",
    "        optimizer.step()  #gradient descent\n",
    "        \n",
    "        losses.append(loss.item())\n",
    "    \n",
    "    l = sum(losses)/len(losses)\n",
    "    all_losses.append(l)\n",
    "    \n",
    "    all_train_acc.append(train_acc)\n",
    "    test_acc = check_accuracy(test_loader, model)*100\n",
    "    all_test_acc.append(test_acc)\n",
    "    \n",
    "    print(f\"Epoch: {epoch + 1}, Loss: {l}, Train Acc: {train_acc}, Test Acc: {test_acc}\")\n",
    "#     print(f\"Epoch: {epoch + 1}, Loss: {l}, Test Acc: {test_acc}\")\n"
   ]
  },
  {
   "cell_type": "code",
   "execution_count": 5,
   "id": "f2a6063b",
   "metadata": {},
   "outputs": [
    {
     "name": "stdout",
     "output_type": "stream",
     "text": [
      "[0.04336711407575027, 0.025262040171092227, 0.02194277392010446, 0.01989339702151637, 0.01844792158919431, 0.017140091411651126, 0.016462338748314077, 0.015666532868558847, 0.014804180721363063, 0.013934788556532964, 0.013758949935436249, 0.012835662420247756, 0.01213239427660863, 0.011638272647307348, 0.011018177477159986, 0.010225143207227269, 0.01016819132762966, 0.009938703424903371, 0.009454139300730455, 0.009266337690254053, 0.009035046544374415, 0.008669971724942563, 0.008310922189300298, 0.008047078810040914, 0.007645712003713011, 0.0077217574069330655, 0.007107306889593404, 0.007740565911970205, 0.007158099373102819, 0.006877829374932738, 0.006608205796933915, 0.006621700847674181, 0.006524533116524773, 0.006210911926005292, 0.006253706144720868]\n"
     ]
    },
    {
     "data": {
      "image/png": "[encoded data removed]",
      "text/plain": [
       "<Figure size 432x288 with 1 Axes>"
      ]
     },
     "metadata": {
      "needs_background": "light"
     },
     "output_type": "display_data"
    },
    {
     "data": {
      "image/png": "[encoded data removed]",
      "text/plain": [
       "<Figure size 432x288 with 1 Axes>"
      ]
     },
     "metadata": {
      "needs_background": "light"
     },
     "output_type": "display_data"
    }
   ],
   "source": [
    "\"\"\"Plotting Results\"\"\"\n",
    "\n",
    "# print(\"Checking final accuracy on training data.\")\n",
    "# check_accuracy(train_loader, model)\n",
    "\n",
    "# print(\"Checking final accuracy on testing data.\")\n",
    "# check_accuracy(test_loader, model)\n",
    "\n",
    "\n",
    "\n",
    "def plot(loss, train_acc, test_acc):\n",
    "    plt.figure()\n",
    "    plt.scatter(range(0, len(all_losses)), loss)\n",
    "    plt.plot(range(0, len(all_losses)), loss)\n",
    "    \n",
    "    plt.figure()\n",
    "    plt.scatter(range(0, len(train_acc)), train_acc)\n",
    "    plt.scatter(range(0, len(test_acc)), test_acc)\n",
    "    plt.plot(range(0, len(train_acc)), train_acc)\n",
    "    plt.plot(range(0, len(test_acc)), test_acc)\n",
    "    \n",
    "    now = datetime.now()\n",
    "    # dd/mm/YY H:M:S\n",
    "    dt_string = now.strftime(\"%d,%m,%Y_%H,%M,%S\")\n",
    "#     plt.savefig('../plots/loss_accuracy_' + dt_string + '.png')\n",
    "\n",
    "print(all_losses)\n",
    "plot(all_losses, all_train_acc, all_test_acc)"
   ]
  },
  {
   "cell_type": "code",
   "execution_count": 6,
   "id": "1e405d57",
   "metadata": {},
   "outputs": [
    {
     "name": "stdout",
     "output_type": "stream",
     "text": [
      "tensor([[0.8682]], grad_fn=<AddmmBackward>)\n"
     ]
    }
   ],
   "source": [
    "\"\"\"Getting prediction on single custom image\"\"\"\n",
    "IMG_FILE = \"../test_face2.jpg\"\n",
    "\n",
    "test_img = torch.Tensor(cv2.cvtColor(cv2.imread(IMG_FILE), cv2.COLOR_BGR2GRAY))   #getting image with shape (48, 48)\n",
    "test_img = test_img.unsqueeze(0).unsqueeze(0)  #adding 2 dimensions to the image to get it to shape (1, 1, 48, 48). The 1st dimension represents batch of 1, the second represents color channels (I think)\n",
    "outputs = model(test_img)\n",
    "print(outputs)"
   ]
  },
  {
   "cell_type": "code",
   "execution_count": 23,
   "id": "0e8bcb85",
   "metadata": {},
   "outputs": [
    {
     "data": {
      "image/png": "[encoded data removed]",
      "text/plain": [
       "<Figure size 432x288 with 1 Axes>"
      ]
     },
     "metadata": {
      "needs_background": "light"
     },
     "output_type": "display_data"
    },
    {
     "name": "stdout",
     "output_type": "stream",
     "text": [
      "prediction: 29.162731.      Label: 28.000000\n"
     ]
    }
   ],
   "source": [
    "\"\"\"Getting prediction on a random image from the dataset (and retreiving label)\"\"\"\n",
    "import random\n",
    "item_tuple = dataset.__getitem__(random.randint(0, dataset.__len__()-1))\n",
    "image = item_tuple[0]\n",
    "label = item_tuple[1]*100\n",
    "\n",
    "%matplotlib inline\n",
    "from matplotlib import pyplot as plt\n",
    "plt.imshow(image)\n",
    "plt.show()\n",
    "\n",
    "image = torch.Tensor(image)\n",
    "image = image.unsqueeze(0).unsqueeze(0)  #adding 2 dimensions to the image to get it to shape (1, 1, 48, 48). The 1st dimension represents batch of 1, the second represents color channels (I think)\n",
    "outputs = model(image) * 100\n",
    "print(\"prediction: %f.      Label: %f\" % (outputs, label))"
   ]
  },
  {
   "cell_type": "code",
   "execution_count": 8,
   "id": "486fea93",
   "metadata": {},
   "outputs": [],
   "source": [
    "# \"\"\"Getting prediction on a random image from the dataset (and retreiving label)\"\"\"\n",
    "# import random\n",
    "# item_tuple = dataset.__getitem__(random.randint(0, dataset.__len__()-1))\n",
    "# image = item_tuple[0]\n",
    "# label = item_tuple[1]\n",
    "\n",
    "# %matplotlib inline\n",
    "# from matplotlib import pyplot as plt\n",
    "# plt.imshow(image)\n",
    "# plt.show()\n",
    "\n",
    "# __, img = torch.utils.data.random_split(dataset, [num_data_items-1, 1])\n",
    "# loader = DataLoader(dataset=img, batch_size=1, shuffle=True)\n",
    "# for batch_idx, (data, targets) in enumerate(loader):   #Looping through batches\n",
    "#     #Get data to cuda if possible\n",
    "#     data = data.to(device=device)             #data is a torch tensor of [batch size] 48x48 images (shape=[batch size,48,48])\n",
    "#     data = data.unsqueeze(1)                  #Add a dimension to the tensor for number of channels (which is 1)\n",
    "\n",
    "#     #Forward prop\n",
    "#     scores = model(data.float()).reshape(-1)\n",
    "\n",
    "#     print(\"prediction: %f.      Label: %d\" % (scores.item(), int(label.item())))"
   ]
  },
  {
   "cell_type": "code",
   "execution_count": null,
   "id": "3c9e4a1c",
   "metadata": {},
   "outputs": [],
   "source": []
  }
 ],
 "metadata": {
  "kernelspec": {
   "display_name": "Python 3",
   "language": "python",
   "name": "python3"
  },
  "language_info": {
   "codemirror_mode": {
    "name": "ipython",
    "version": 3
   },
   "file_extension": ".py",
   "mimetype": "text/x-python",
   "name": "python",
   "nbconvert_exporter": "python",
   "pygments_lexer": "ipython3",
   "version": "3.9.5"
  }
 },
 "nbformat": 4,
 "nbformat_minor": 5
}
