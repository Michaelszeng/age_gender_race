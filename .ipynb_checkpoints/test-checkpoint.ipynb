{
 "cells": [
  {
   "cell_type": "code",
   "execution_count": 5,
   "id": "f3173534",
   "metadata": {},
   "outputs": [
    {
     "name": "stdout",
     "output_type": "stream",
     "text": [
      "tensor([[8.9602],\n",
      "        [9.0566],\n",
      "        [8.2235],\n",
      "        [9.1334],\n",
      "        [6.6040],\n",
      "        [4.5235],\n",
      "        [9.0940],\n",
      "        [2.7296],\n",
      "        [8.9968],\n",
      "        [0.3974],\n",
      "        [8.0491],\n",
      "        [3.0969],\n",
      "        [6.3758],\n",
      "        [1.7422],\n",
      "        [0.4198],\n",
      "        [7.4116],\n",
      "        [6.4864],\n",
      "        [7.0781],\n",
      "        [8.0405],\n",
      "        [4.6685],\n",
      "        [6.7895],\n",
      "        [4.3806],\n",
      "        [4.6654],\n",
      "        [5.3036],\n",
      "        [8.0305],\n",
      "        [6.1601],\n",
      "        [9.2248],\n",
      "        [3.1164],\n",
      "        [8.9069],\n",
      "        [0.4729],\n",
      "        [9.0075],\n",
      "        [1.0973]])\n",
      "tensor([[1.0000],\n",
      "        [1.0000],\n",
      "        [1.0000],\n",
      "        [1.0000],\n",
      "        [1.0000],\n",
      "        [1.0000],\n",
      "        [1.0000],\n",
      "        [1.0000],\n",
      "        [1.0000],\n",
      "        [1.0000],\n",
      "        [1.0000],\n",
      "        [1.0000],\n",
      "        [1.0000],\n",
      "        [1.0000],\n",
      "        [1.0000],\n",
      "        [1.0000],\n",
      "        [1.0000],\n",
      "        [1.0000],\n",
      "        [1.0000],\n",
      "        [1.0000],\n",
      "        [1.0000],\n",
      "        [1.0000],\n",
      "        [1.0000],\n",
      "        [1.0000],\n",
      "        [1.0000],\n",
      "        [1.0000],\n",
      "        [1.0000],\n",
      "        [1.0000],\n",
      "        [1.0000],\n",
      "        [1.0000],\n",
      "        [1.0000],\n",
      "        [1.0000]])\n"
     ]
    }
   ],
   "source": [
    "import torch\n",
    "from torchvision import transforms\n",
    "import torch.nn.functional as F\n",
    "\n",
    "t = 10*torch.rand(32, 1)\n",
    "print(t)\n",
    "mean = torch.mean(t)\n",
    "transformed = t/mean\n",
    "print(transformed)"
   ]
  },
  {
   "cell_type": "code",
   "execution_count": null,
   "id": "f4fb469f",
   "metadata": {},
   "outputs": [],
   "source": []
  }
 ],
 "metadata": {
  "kernelspec": {
   "display_name": "Python 3",
   "language": "python",
   "name": "python3"
  },
  "language_info": {
   "codemirror_mode": {
    "name": "ipython",
    "version": 3
   },
   "file_extension": ".py",
   "mimetype": "text/x-python",
   "name": "python",
   "nbconvert_exporter": "python",
   "pygments_lexer": "ipython3",
   "version": "3.9.5"
  }
 },
 "nbformat": 4,
 "nbformat_minor": 5
}
